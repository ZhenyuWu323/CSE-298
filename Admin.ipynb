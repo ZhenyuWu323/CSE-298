{
 "cells": [
  {
   "cell_type": "code",
   "execution_count": 3,
   "id": "143a0ba7",
   "metadata": {},
   "outputs": [],
   "source": [
    "import psycopg2\n",
    "import requests\n",
    "import json\n",
    "import pymysql"
   ]
  },
  {
   "cell_type": "code",
   "execution_count": 5,
   "id": "ae4d8ee7",
   "metadata": {},
   "outputs": [],
   "source": [
    "host = \"gameexplorer.cal8aajyevac.ap-southeast-2.rds.amazonaws.com\"\n",
    "user = 'admin'\n",
    "password = \"wuzhenyu\"\n",
    "database = 'GameExplorer'"
   ]
  },
  {
   "cell_type": "code",
   "execution_count": 11,
   "id": "02f8b022",
   "metadata": {
    "scrolled": true
   },
   "outputs": [
    {
     "name": "stdout",
     "output_type": "stream",
     "text": [
      "1\n",
      "2\n",
      "3\n",
      "4\n",
      "5\n",
      "6\n",
      "7\n",
      "8\n",
      "9\n"
     ]
    }
   ],
   "source": [
    "def fetch_game():\n",
    "    \n",
    "    host = \"gameexplorer.cal8aajyevac.ap-southeast-2.rds.amazonaws.com\"\n",
    "    user = 'admin'\n",
    "    password = \"wuzhenyu\"\n",
    "    database = 'GameExplorer'\n",
    "    connection = pymysql.connect(host=host, user=user, password=password, database=database)\n",
    "    cursor = connection.cursor()\n",
    "    response = requests.get('https://api.rawg.io/api/games?key=56d8217442f84e2398c806076bdff38d')\n",
    "    json_data = response.json()\n",
    "    game_num = int(json_data['count'])\n",
    "    #Page number\n",
    "    page_num = int(game_num/20)\n",
    "    for k in range(1,10):\n",
    "        print(k)\n",
    "        url = 'https://api.rawg.io/api/games?key=56d8217442f84e2398c806076bdff38d&page='+str(k)\n",
    "        response = requests.get(url)\n",
    "        json_data = response.json()\n",
    "        game_list = json_data['results']\n",
    "        for i in game_list:\n",
    "            game_id= int(i['id'])\n",
    "            # Check if the game with the given ID already exists in the table\n",
    "            check_sql = \"SELECT COUNT(*) FROM GameList WHERE id = %d\" % game_id\n",
    "            cursor.execute(check_sql)\n",
    "            result = cursor.fetchone()\n",
    "            if result[0] > 0:\n",
    "                continue\n",
    "            game_name = i['name'].replace(\"'\", \" \")\n",
    "\n",
    "            image = i['background_image']\n",
    "            index = image.index('media/') + len('media/')\n",
    "            game_image = image[:index] + 'crop/600/400/' + image[index:]\n",
    "\n",
    "            genres_list = i['genres']\n",
    "            game_genre = \"\"\n",
    "            for j in genres_list:\n",
    "                game_genre+= j['name'] + ', '\n",
    "            game_genre = game_genre[:-2]\n",
    "\n",
    "            platform_list = i['platforms']\n",
    "            game_platform = \"\"\n",
    "            for j in platform_list:\n",
    "                j = dict(j)\n",
    "                temp = dict(j['platform'])\n",
    "                game_platform+= temp['name'] + ', '\n",
    "            game_platform = game_platform[:-2]\n",
    "            \n",
    "            sql = '''insert into GameList (id, name, background, genre, platform) values ('%d', '%s', '%s', '%s',\"%s\")''' % (game_id,game_name,game_image,game_genre, game_platform)\n",
    "            cursor.execute(sql)\n",
    "            connection.commit()\n",
    "fetch_game()"
   ]
  },
  {
   "cell_type": "code",
   "execution_count": null,
   "id": "2bd88287",
   "metadata": {},
   "outputs": [],
   "source": []
  },
  {
   "cell_type": "code",
   "execution_count": null,
   "id": "1fa149fe",
   "metadata": {},
   "outputs": [],
   "source": []
  }
 ],
 "metadata": {
  "kernelspec": {
   "display_name": "Python 3 (ipykernel)",
   "language": "python",
   "name": "python3"
  },
  "language_info": {
   "codemirror_mode": {
    "name": "ipython",
    "version": 3
   },
   "file_extension": ".py",
   "mimetype": "text/x-python",
   "name": "python",
   "nbconvert_exporter": "python",
   "pygments_lexer": "ipython3",
   "version": "3.9.12"
  }
 },
 "nbformat": 4,
 "nbformat_minor": 5
}
